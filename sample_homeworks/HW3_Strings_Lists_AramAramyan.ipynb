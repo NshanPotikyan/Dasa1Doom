{
 "cells": [
  {
   "cell_type": "markdown",
   "metadata": {
    "id": "GCEodKTbRd_r"
   },
   "source": [
    "# Homework Exercises (1 point for each)"
   ]
  },
  {
   "cell_type": "markdown",
   "metadata": {
    "id": "sM2FU5TVqX3l"
   },
   "source": [
    "## Strings"
   ]
  },
  {
   "cell_type": "markdown",
   "metadata": {
    "id": "1WbPDB3mI7MO"
   },
   "source": [
    "1. Write a program that asks the user to enter a string. The program should then print the\n",
    "following:\n",
    "\n",
    "  * The total number of characters in the string\n",
    "  * The string repeated 10 times\n",
    "  * The first character of the string \n",
    "  * The first three characters of the string\n",
    "  * The last three characters of the string\n",
    "  * The string backwards\n",
    "\n",
    "  Գրել ծրագիր, որը օգտատիրոջ մուտքագրած տեքստի (string) համար կտպի հետևյալը․\n",
    "\n",
    "  * Ընդհանուր սիմվոլների քանակը\n",
    "  * տեքստը 10 անգամ կրկնած\n",
    "  * առաջին անդամը\n",
    "  * առաջին 3 անդամները\n",
    "  * վերջին 3 անդամները\n",
    "  * տեսքտը հակառակ շրջած"
   ]
  },
  {
   "cell_type": "code",
   "execution_count": null,
   "metadata": {
    "id": "TXQRhmFoI6-z"
   },
   "outputs": [],
   "source": [
    "st = input('enter a string ')\n",
    "print(f'The total number of characters in the string   {len(st)}')\n",
    "print('The string repeated 10 times   {}'.format((st + ' ') * 10))\n",
    "print(f'The first character of the string   {st[0]}')\n",
    "print(f'The first three characters of the string   {st[:3]}')\n",
    "print(f'The last three characters of the string  {st[-3:]}')\n",
    "print(f'The string backwards  {st[::-1]}')"
   ]
  },
  {
   "cell_type": "markdown",
   "metadata": {
    "id": "3HEZ6dl0ekny"
   },
   "source": [
    "2. A simple way to estimate the number of words in a string is to count the number of spaces\n",
    "in the string. Write a program that asks the user for a string and returns an estimate of how\n",
    "many words are in the string.\n",
    "\n",
    "  Տեքստի մեջ բառերի քանակը մոտավոր հաշվելու պարզագույն եղանակը տեքստում բացատների քանակը հաշվելն է։ Գրել ծրագիր, որը կտպի բացատների քանակը՝ օգտատիրոջ կողմից մուտքագրված տեքստում։ "
   ]
  },
  {
   "cell_type": "code",
   "execution_count": null,
   "metadata": {
    "id": "AgRYItgXek22"
   },
   "outputs": [],
   "source": [
    "tex = input('enter text  ')\n",
    "if tex != '':\n",
    "  print('In the text {} words'.format(tex.count(' ') + 1))\n",
    "else:\n",
    "  print('In the text 0 words')"
   ]
  },
  {
   "cell_type": "markdown",
   "metadata": {
    "id": "_OkxDUHEI6kS"
   },
   "source": [
    "3. Write a program that asks the user to enter a string `s` and then converts `s` to lowercase, removes\n",
    "all the `periods` (.) and `commas` (,) from `s`, and prints the resulting string.\n",
    "\n",
    "  Գրել ծրագիր, որը օգտատիրոջից վերցնում է տեքստ, դարձնում այն փոքրատառ, վերացնում վերջակետերն (.) ու ստորակետերը (,) և տպում ստացված տեքստը։"
   ]
  },
  {
   "cell_type": "code",
   "execution_count": null,
   "metadata": {
    "id": "cTN0Ve60jEqT"
   },
   "outputs": [],
   "source": [
    "s = input('enter a string  ')\n",
    "sc = s.lower()\n",
    "sc = sc.replace('.','')\n",
    "sc = sc.replace(',','')\n",
    "print(sc)"
   ]
  },
  {
   "cell_type": "markdown",
   "metadata": {
    "id": "xlBkRh2dVHWo"
   },
   "source": [
    "4. Write a program that asks the user to enter a word and determines whether the word is a\n",
    "`palindrome` or not. A palindrome is a word that reads the same backwards as forwards.\n",
    "\n",
    "  Գրել ծրագիր, որը օտատիրոջից վերցնում է մեկ բառ և ստուգում է արդյոք այդ բառը պալինդրոմ է, թե՝ ոչ։ Պալինդրոմ են անվանում այն բառերին, որոնք սկբից և վերջից կարդալիս նույնն են։ Օրինակ՝ ապա, Աննա, ահա, աբբգգբբա։ Բառերը կարող են իմաստ չունենալ։  \n",
    "\n"
   ]
  },
  {
   "cell_type": "code",
   "execution_count": null,
   "metadata": {
    "colab": {
     "base_uri": "https://localhost:8080/"
    },
    "id": "TwvYtVrAVHbQ",
    "outputId": "5c798d48-3818-421c-8b10-1e12f4e9aeb3"
   },
   "outputs": [
    {
     "name": "stdout",
     "output_type": "stream",
     "text": [
      "Enter a word  gfdfg\n",
      "word is a palindrome\n"
     ]
    }
   ],
   "source": [
    "pW = input('Enter a word  ').lower()\n",
    "co = 0\n",
    "for i in range(len(pW)):\n",
    "  if pW[i] == pW[len(pW)-(i+1)]:\n",
    "    co += 1\n",
    "if co == len(pW):\n",
    "  print('word is a palindrome')\n",
    "else:\n",
    "  print('word is not a palindrome')"
   ]
  },
  {
   "cell_type": "markdown",
   "metadata": {
    "id": "32hdDmh3VHfY"
   },
   "source": [
    "5. Write a program that asks the user for their name and then generates the email written below for that person.\n",
    "\n",
    "  Գրել ծրագիր, որը հարցնում է օգտատիրոջ անուն, ազգանունը և տպում այդ օգտատիրոջ համար հետևյալ նամակը։ \n",
    "\n",
    "  \"Dear **Name Surname**,\n",
    "  \n",
    "  I am pleased to offer you our new special product. **Name**, you may not get such an offer every day, so I would like to ask you to call\n",
    "now. We cannot offer such a low\n",
    "rate for long, **Name**, so please call as soon as possible.\" "
   ]
  },
  {
   "cell_type": "code",
   "execution_count": null,
   "metadata": {
    "id": "8OmuGQjqVHjn"
   },
   "outputs": [],
   "source": [
    "name = input('Enter Your name  ')\n",
    "surn = input('Enter Your surname  ')\n",
    "print(f'\"Dear {name} {surn},\\n\\nI am pleased to offer you our new special produ\\\n",
    "ct. {name}, you may not get such an offer every day, so I would like to ask you\\\n",
    " to call now.\\nWe cannot offer such a low rate for long, {name}, so please call\\\n",
    "  as soon as possible.\"')\n"
   ]
  },
  {
   "cell_type": "markdown",
   "metadata": {
    "id": "_wOptjGTqTFC"
   },
   "source": [
    "## Lists"
   ]
  },
  {
   "cell_type": "markdown",
   "metadata": {
    "id": "YUaFYy8OIHWp"
   },
   "source": [
    "6. Write a program that generates a list of 20 random numbers between 1 and 100.\n",
    "  * Print the list.\n",
    "  * Print the average of the elements in the list.\n",
    "  * Print the largest and smallest values in the list.\n",
    "  * Print the second largest and second smallest entries in the list\n",
    "  * Print how many even numbers are in the list.\n",
    "\n",
    "  Գրել ծրագիր, որը կստեղծի 1-100 միջակայքից 20 պատահական ամբողջ թվեր պարունակող list և կտպի\n",
    "  * այդ list-ը \n",
    "  * list-ի թվաբանական միջինը\n",
    "  * մեծագույն և փոքրագուն թվերը\n",
    "  * երկրորդ ամենամեծ և ամենափոքր թվերը\n",
    "  * զույգ թվերի քանակը"
   ]
  },
  {
   "cell_type": "code",
   "execution_count": null,
   "metadata": {
    "id": "xrSVUy31IHeV"
   },
   "outputs": [],
   "source": [
    "import random\n",
    "li = random.sample(range(1,101),20)\n",
    "lic = li[:]\n",
    "print(li)\n",
    "print(sum(li)/20)\n",
    "print(f'largest is {max(li)}, smallest is {min(li)}')\n",
    "lic.remove(max(lic)); lic.remove(min(lic))\n",
    "print(f'second largest is {max(lic)}, second smallest is {min(lic)}')\n",
    "cou = 0\n",
    "for i in li:\n",
    "  if i % 2 == 0:\n",
    "    cou += 1\n",
    "print(f'even numbers are in the list {cou}')\n"
   ]
  },
  {
   "cell_type": "markdown",
   "metadata": {
    "id": "FgcH-562IHlB"
   },
   "source": [
    "7. Ask the user to enter a list containing numbers between 1 and 12. Then replace all of the\n",
    "entries in the list that are greater than 8 with 8 And prints the resulting list.\n",
    "\n",
    "  Գրել ծրագիր, որը վերցնում է օգտատիրոջ կողմից մուտքագրված 1-ից 12 ամբողջ թվեր, փոխարինում 8-ից մեծ թվերը 8-ով և տպում է ստացված list-ը։"
   ]
  },
  {
   "cell_type": "code",
   "execution_count": null,
   "metadata": {
    "id": "KMqAiNsGIHsU"
   },
   "outputs": [],
   "source": [
    "print('Enter a list containing numbers between 1 and 12.\\nTo srop this process \\\n",
    "press 0 button and enter')\n",
    "li2 = []\n",
    "num = 1\n",
    "while num != 0:\n",
    "  num = int(input())\n",
    "  if 0 > num or num > 12:\n",
    "    print('Enter a numbers between 1 and 12')\n",
    "  elif 1 <= num <= 8:\n",
    "    li2.append(num)\n",
    "  elif 9 <= num <= 12:\n",
    "    li2.append(8)\n",
    "else:\n",
    "  print('Your list is')\n",
    "  print(li2)"
   ]
  },
  {
   "cell_type": "markdown",
   "metadata": {
    "id": "IicCIcQvIHxY"
   },
   "source": [
    "8. Ask the user to enter a list of strings. Create a new list that consists of those strings with their\n",
    "first characters removed.\n",
    "\n",
    "  Օգտատիրոջ կողմից պետք է մուտքագրվի string-ների list, այնուհետև պահանջվում է ստեղծել նոր list, որտեղ կլինեն նույն string-ները, բայց առանց առաջին սիմվոլի։ Օրինակ՝ \n",
    "  `['!dog', '+cat']` $\\to$ `['dog', 'cat']`"
   ]
  },
  {
   "cell_type": "code",
   "execution_count": null,
   "metadata": {
    "id": "gW2JdxzWIH4g"
   },
   "outputs": [],
   "source": [
    "print('Enter a list of strings.\\nTo srop this process press 0 button and enter')\n",
    "li3 = []\n",
    "tex = ''\n",
    "while tex != '0':\n",
    "    tex = input()\n",
    "    li3.append(tex[1:])\n",
    "#else:\n",
    "print(li3[:-1])"
   ]
  },
  {
   "cell_type": "markdown",
   "metadata": {
    "id": "MEC70di4IH_O"
   },
   "source": [
    "9. Write a program that generates 100 random integers that are either 0 or 1. Then find the largest number of zeros in a row. For instance, the longest run of\n",
    "zeros in `[1,0,1,1,0,0,0,0,1,0,0]` is 4. \n",
    "\n",
    "  Գրել ծրագիր, որը կստեղծի 100 պատահական 0-ներ և 1-եր, ապա կհաշվի թե ամենաշատը քանի իրար հաջորդող 0-ներ կան տվյալ list-ի մեջ։ Օրինակ՝ այս դեպքում `[1,0,1,1,0,0,0,0,1,0,0]` այդ թիվը կլինի 4-ը.  Chi stacvel"
   ]
  },
  {
   "cell_type": "code",
   "execution_count": 2,
   "metadata": {
    "colab": {
     "base_uri": "https://localhost:8080/"
    },
    "id": "wU6-9X9zIIFe",
    "outputId": "72c4b8d3-93ff-4956-c83f-93252a630e01"
   },
   "outputs": [
    {
     "name": "stdout",
     "output_type": "stream",
     "text": [
      "[1, 1, 0, 0, 1, 1, 1, 0, 1, 0, 1, 0, 0, 1, 1, 1, 0, 1, 0, 0, 0, 0, 1, 0, 1, 0, 0, 0, 1, 0, 0, 1, 1, 1, 0, 0, 0, 1, 0, 0, 1, 1, 1, 1, 1, 1, 0, 0, 1, 1, 1, 1, 0, 0, 1, 0, 1, 0, 0, 1, 0, 0, 0, 1, 0, 0, 1, 0, 1, 1, 0, 1, 0, 1, 1, 0, 1, 0, 0, 1, 0, 1, 1, 1, 1, 0, 0, 1, 0, 0, 1, 1, 0, 1, 0, 1, 1, 1, 1, 0]\n",
      "The longest run of zeros is 4\n"
     ]
    }
   ],
   "source": [
    "import random\n",
    "\n",
    "li4 = []\n",
    "li5 = []\n",
    "for i in range(100):\n",
    "    li4.append(random.randint(0, 1))\n",
    "print(li4)\n",
    "sh = 0\n",
    "for i in li4:\n",
    "    if i == 0:\n",
    "        sh += 1\n",
    "        li5.append(sh)\n",
    "    if i == 1:\n",
    "        sh = 0\n",
    "        continue\n",
    "print(f'The longest run of zeros is {max(li5)}')"
   ]
  },
  {
   "cell_type": "markdown",
   "metadata": {
    "id": "DX4939I0Kdqt"
   },
   "source": [
    "10. Create the following lists using list comprehension.\n",
    "\n",
    "  * A list consisting of the even integers 0 through 49\n",
    "  * A list containing the squares of the integers 1 through 50 that are divisible by 3.\n",
    "\n",
    "  Ստեղծել հետևյալ list-երը օգտագործելով list comprehension մեթոդը։\n",
    "\n",
    "  * 0-ից 49 զույգ ամբողջ թվերը\n",
    "  * 1-ից 50 ամողջ թվերից 3-ի բաժանվողների քառակուսիները"
   ]
  },
  {
   "cell_type": "code",
   "execution_count": null,
   "metadata": {
    "colab": {
     "base_uri": "https://localhost:8080/"
    },
    "id": "bAKqzpv6KfDJ",
    "outputId": "732bb7db-ef49-47fe-a667-1e307d08c13a"
   },
   "outputs": [
    {
     "name": "stdout",
     "output_type": "stream",
     "text": [
      "[0, 2, 4, 6, 8, 10, 12, 14, 16, 18, 20, 22, 24, 26, 28, 30, 32, 34, 36, 38, 40, 42, 44, 46, 48]\n",
      "[9, 36, 81, 144, 225, 324, 441, 576, 729, 900, 1089, 1296, 1521, 1764, 2025, 2304]\n"
     ]
    }
   ],
   "source": [
    "print([i for i in range(49) if i % 2 == 0])\n",
    "print([k * k for k in range(1, 50) if k % 3 == 0])"
   ]
  }
 ],
 "metadata": {
  "colab": {
   "collapsed_sections": [],
   "name": "HW3_Strings_Lists_Hovhannes_Jeyranyan.ipynb",
   "provenance": []
  },
  "kernelspec": {
   "display_name": "Python 3",
   "language": "python",
   "name": "python3"
  },
  "language_info": {
   "codemirror_mode": {
    "name": "ipython",
    "version": 3
   },
   "file_extension": ".py",
   "mimetype": "text/x-python",
   "name": "python",
   "nbconvert_exporter": "python",
   "pygments_lexer": "ipython3",
   "version": "3.8.3"
  }
 },
 "nbformat": 4,
 "nbformat_minor": 1
}
