{
 "cells": [
  {
   "cell_type": "markdown",
   "metadata": {
    "id": "GCEodKTbRd_r"
   },
   "source": [
    "# Homework Exercises (2 point for each)"
   ]
  },
  {
   "cell_type": "markdown",
   "metadata": {
    "id": "1WbPDB3mI7MO"
   },
   "source": [
    "Problem1. Write a function called `verbose` that, given an integer less than 1000, returns the name of\n",
    "the integer in Armenian. As an example, `verbose(123)` should return `հարյուր քսաներեք`.\n",
    "\n",
    "  Գրել `verbose` անունով ֆունկցիա, որը 1000-ից փոքր դրական ամբողջ թվի համար վերադարձնում է թվի անվանումը հայերեն, օրինակ՝ verbose(123)-ը պետք է վերադարձնի `հարյուր քսաներեք`։"
   ]
  },
  {
   "cell_type": "code",
   "execution_count": 1,
   "metadata": {
    "id": "hfFxrQ4YI6v7",
    "scrolled": false
   },
   "outputs": [
    {
     "name": "stdout",
     "output_type": "stream",
     "text": [
      "հարյուր քսաներեք\n",
      "երկու հարյուր վաթսունյոթ\n",
      "ութսունինը\n",
      "տասնմեկ\n",
      "տասը\n",
      "հինգ\n"
     ]
    }
   ],
   "source": [
    "d = {0: 'զրո', 1: 'մեկ', 2: 'երկու', 3: 'երեք', 4: 'չորս', 5: 'հինգ',\n",
    "     6: 'վեց', 7: 'յոթ', 8: 'ութ', 9: 'ինը', 10: 'տասը',\n",
    "     11: 'տասնմեկ', 12: 'տասներկու', 13: 'տասներեք', 14: 'տասնչորս',\n",
    "     15: 'տասնհինգ', 16: 'տասնվեց', 17: 'տասնյոթ', 18: 'տասնութ',\n",
    "     19: 'տասնինը', 20: 'քսան', 30: 'երեսուն', 40: 'քառասուն',\n",
    "     50: 'հիսուն', 60: 'վաթսուն',  70: 'յոթանասուն', 80: 'ութսուն',\n",
    "     90: 'իննսուն'}\n",
    "\n",
    "\n",
    "def verbose(num):\n",
    "\n",
    "    if 0 > num or num >= 1000:\n",
    "        print('Enter num in range [0, 999]')\n",
    "        return ''\n",
    "\n",
    "    if (num < 20):\n",
    "        return d[num]\n",
    "\n",
    "    if (num < 100):\n",
    "        if num % 10 == 0:\n",
    "            return d[num]\n",
    "        else:\n",
    "            return d[num // 10 * 10] + d[num % 10]\n",
    "\n",
    "    if (num < 200):\n",
    "        if num % 100 == 0:\n",
    "            return 'հարյուր'\n",
    "        else:\n",
    "            return 'հարյուր' + ' ' + verbose(num % 100)\n",
    "\n",
    "    if (199 < num < 1000):\n",
    "        if num % 100 == 0:\n",
    "            return d[num // 100] + ' հարյուր'\n",
    "        else:\n",
    "            return d[num // 100] + ' հարյուր ' + verbose(num % 100)\n",
    "\n",
    "\n",
    "print(verbose(123))\n",
    "print(verbose(267))\n",
    "print(verbose(89))\n",
    "print(verbose(11))\n",
    "print(verbose(10))\n",
    "print(verbose(5))"
   ]
  },
  {
   "cell_type": "code",
   "execution_count": null,
   "metadata": {
    "id": "wAe1EfR46bM2"
   },
   "outputs": [],
   "source": [
    "assert verbose(123) == 'հարյուր քսաներեք'\n",
    "assert verbose(267) == 'երկու հարյուր վաթսունյոթ'\n",
    "assert verbose(89) == 'ութսունինը'\n",
    "assert verbose(11) == 'տասնմեկ'\n",
    "assert verbose(10) == 'տասը'\n",
    "assert verbose(5) == 'հինգ'"
   ]
  },
  {
   "cell_type": "markdown",
   "metadata": {
    "id": "3HEZ6dl0ekny"
   },
   "source": [
    "Problem2. Write a function called `calc` that accepts a sentence and calculates the number of letters, digits and returns as a tuple.\n",
    "Suppose the following input is supplied to the program:\n",
    "`hello world! 123`\n",
    "Then, the output should be a tuple with  `(10, 3)`:\n",
    "\n",
    "  Գրել `calc` անունով ֆունկցիա, որը կվերցնի նախադասություն և կվերադարձնի դրա մեջ հանդիպած տառերի և թվանշանների քանակը որպես tuple: Օրինակ՝ `calc('hello world! 123')=(10, 3)`։ "
   ]
  },
  {
   "cell_type": "code",
   "execution_count": 8,
   "metadata": {
    "colab": {
     "base_uri": "https://localhost:8080/"
    },
    "id": "AgRYItgXek22",
    "outputId": "e60afb08-b769-4a25-a00a-a21efc29aa77"
   },
   "outputs": [
    {
     "name": "stdout",
     "output_type": "stream",
     "text": [
      "(10, 3)\n",
      "(0, 4)\n",
      "(10, 0)\n",
      "(0, 0)\n"
     ]
    }
   ],
   "source": [
    "def calc(s):\n",
    "    d = l = 0\n",
    "    for c in s:\n",
    "        if c.isdigit():\n",
    "            d = d+1\n",
    "        elif c.isalpha():\n",
    "            l = l+1\n",
    "    return (l, d)\n",
    "\n",
    "\n",
    "print(calc('hello world! 123'))\n",
    "print(calc('1994'))\n",
    "print(calc('hello world!'))\n",
    "print(calc('@#^$*&!'))"
   ]
  },
  {
   "cell_type": "code",
   "execution_count": null,
   "metadata": {
    "id": "KJaK05hE63ur"
   },
   "outputs": [],
   "source": [
    "assert calc('hello world! 123') == (10, 3)\n",
    "assert calc('1994') == (0, 4)\n",
    "assert calc('hello world!') == (10, 0)\n",
    "assert calc('@#^$*&!') == (0, 0)"
   ]
  },
  {
   "cell_type": "markdown",
   "metadata": {
    "id": "_OkxDUHEI6kS"
   },
   "source": [
    "Problem3. Assuming that we have some email addresses in the \"username@companyname.com\" format, please write a function called `email_to_username` to print the user name of a given email address. Both user names and company names are composed of letters only.\n",
    "\n",
    "  Գրել `email_to_username` անունով ֆունկցիա, որը կվերցնի \"username@companyname.com\" ֆորմատի ցանկացած email հասցե և կվերադարձնի username-ը։"
   ]
  },
  {
   "cell_type": "code",
   "execution_count": 13,
   "metadata": {
    "colab": {
     "base_uri": "https://localhost:8080/"
    },
    "id": "cTN0Ve60jEqT",
    "outputId": "cca2160d-c82d-4681-c82c-6387b90fb2b9"
   },
   "outputs": [
    {
     "name": "stdout",
     "output_type": "stream",
     "text": [
      "nshan\n",
      "aramhayrapetyan\n",
      "hayrapetyan\n"
     ]
    }
   ],
   "source": [
    "def email_to_username(email):\n",
    "\n",
    "    return email.split(\"@\")[0]\n",
    "\n",
    "\n",
    "\n",
    "print(email_to_username('nshan@gmail.com'))\n",
    "print(email_to_username('aramhayrapetyan@google.com'))\n",
    "print(email_to_username('hayrapetyan@yahoo.com'))"
   ]
  },
  {
   "cell_type": "code",
   "execution_count": null,
   "metadata": {
    "id": "nz1NOdb37MGf"
   },
   "outputs": [],
   "source": [
    "assert email_to_username('nshan@gmail.com') == 'nshan'\n",
    "assert email_to_username('aramhayrapetyan@google.com') == 'aramhayrapetyan'\n",
    "assert email_to_username('hayrapetyan@yahoo.com') == 'hayrapetyan'"
   ]
  },
  {
   "cell_type": "markdown",
   "metadata": {
    "id": "xlBkRh2dVHWo"
   },
   "source": [
    "Problem4. Write a function called ՝merge՝ that takes two already sorted lists of possibly different lengths,\n",
    "and merges them into a single sorted list without using the `sort` method or `sorted` function.\n",
    "\n",
    "  Գրել `merge` անունով ֆունկցիա, որը վերցնում է տարբեր երկարության երկու դասավորված list-եր և միացնում է դրանք՝ վերադարձնելով դրանց դասավորված տարբերակը առանց օգտագործելու `sort` մեթոդը կամ `sorted`ֆունկցիան։"
   ]
  },
  {
   "cell_type": "code",
   "execution_count": 20,
   "metadata": {
    "colab": {
     "base_uri": "https://localhost:8080/"
    },
    "id": "b3b9GXDEgyvv",
    "outputId": "dddeded5-8c74-419e-8b88-091397d527bb"
   },
   "outputs": [
    {
     "name": "stdout",
     "output_type": "stream",
     "text": [
      "[1, 2, 2, 3, 4, 5]\n",
      "[2, 4, 11, 25, 38, 105]\n"
     ]
    }
   ],
   "source": [
    "def merge(lst1, lst2):\n",
    "    \n",
    "    size1 = len(lst1)\n",
    "    size2 = len(lst2)\n",
    "    lst = []\n",
    "    i, j = 0, 0\n",
    "\n",
    "    while i < size1 and j < size2:\n",
    "        if lst1[i] < lst2[j]:\n",
    "            lst.append(lst1[i])\n",
    "            i += 1\n",
    "        else:\n",
    "            lst.append(lst2[j])\n",
    "            j += 1\n",
    "    rezlst = lst+lst1[i:]+lst2[j:]\n",
    "    return rezlst\n",
    "\n",
    "\n",
    "print(merge([1, 2, 5], [2, 3, 4]))\n",
    "print(merge([11, 25, 105], [2, 4, 38]))"
   ]
  },
  {
   "cell_type": "code",
   "execution_count": null,
   "metadata": {
    "id": "xNaq1HJK7lco"
   },
   "outputs": [],
   "source": [
    "assert merge([1, 2, 5], [2, 3, 4]) == [1, 2, 2, 3, 4, 5]\n",
    "assert merge([11, 25, 105],[2, 4, 38]) == [2, 4, 11, 25, 38, 105]"
   ]
  },
  {
   "cell_type": "markdown",
   "metadata": {
    "id": "32hdDmh3VHfY"
   },
   "source": [
    "Problem5. Write a function called `root` that is given a number `x` and an integer `n` and returns $x^\\frac{1}{n}$. In\n",
    "the function definition, set the default value of `n` to `2`.\n",
    "\n",
    "  Գրել `root` անունով ֆունկցիա, որը վերցնում է `x` դրական թիվ և `n` ամբողջ թիվ և վերադարձնում է $x^\\frac{1}{n}$։ Ֆուկցիայի սահմանման մեջ `n`-ի սկզբնական արժեքը դնել 2:\n"
   ]
  },
  {
   "cell_type": "code",
   "execution_count": 27,
   "metadata": {
    "id": "8OmuGQjqVHjn"
   },
   "outputs": [
    {
     "name": "stdout",
     "output_type": "stream",
     "text": [
      "5.0\n",
      "4.0\n",
      "3.0\n"
     ]
    }
   ],
   "source": [
    "def root(x, n=2):\n",
    "    e = x**(1/n)\n",
    "    return e\n",
    "\n",
    "\n",
    "print(root(25, 2))\n",
    "print(root(16))\n",
    "print(root(81, 4))"
   ]
  },
  {
   "cell_type": "code",
   "execution_count": null,
   "metadata": {
    "id": "C4KFJsIz7-zd"
   },
   "outputs": [],
   "source": [
    "assert root(25, 2) == 5.0\n",
    "assert root(16) == 4.0\n",
    "assert root(81, 4) == 3.0"
   ]
  }
 ],
 "metadata": {
  "colab": {
   "collapsed_sections": [],
   "name": "Copy of HW6.ipynb",
   "provenance": []
  },
  "kernelspec": {
   "display_name": "Python 3",
   "language": "python",
   "name": "python3"
  },
  "language_info": {
   "codemirror_mode": {
    "name": "ipython",
    "version": 3
   },
   "file_extension": ".py",
   "mimetype": "text/x-python",
   "name": "python",
   "nbconvert_exporter": "python",
   "pygments_lexer": "ipython3",
   "version": "3.7.3"
  }
 },
 "nbformat": 4,
 "nbformat_minor": 1
}
